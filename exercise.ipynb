{
 "cells": [
  {
   "cell_type": "markdown",
   "metadata": {},
   "source": [
    "Nama : Ayu Sudi D  \n",
    "Batch : HCK-010  \n",
    "\n",
    "Objective :   \n",
    "Latihan python ......."
   ]
  },
  {
   "cell_type": "markdown",
   "metadata": {},
   "source": [
    "# Function calculateMean"
   ]
  },
  {
   "cell_type": "code",
   "execution_count": 4,
   "metadata": {},
   "outputs": [
    {
     "name": "stdout",
     "output_type": "stream",
     "text": [
      "90.0\n"
     ]
    }
   ],
   "source": [
    "def calculateMean(listNumber):\n",
    "  \"\"\"\n",
    "  calculateMean untuk menghasilkan rata-rata nilai dari input (listNumber)\n",
    "  \"\"\"\n",
    "  totalScore = 0\n",
    "  # Looping listNumber untuk hitung total score\n",
    "  for number in listNumber:\n",
    "    totalScore += number \n",
    "  result = totalScore / len(listNumber)\n",
    "  return result\n",
    "\n",
    "print(calculateMean([100, 100, 70]))"
   ]
  },
  {
   "cell_type": "markdown",
   "metadata": {},
   "source": [
    "# Soal Gabungan"
   ]
  },
  {
   "cell_type": "code",
   "execution_count": 14,
   "metadata": {},
   "outputs": [
    {
     "data": {
      "text/plain": [
       "{'Ayu': {'top_score': 100, 'bottom_score': 80, 'average': 90.0},\n",
       " 'Yuda': {'top_score': 100, 'bottom_score': 50, 'average': 87.5}}"
      ]
     },
     "execution_count": 14,
     "metadata": {},
     "output_type": "execute_result"
    }
   ],
   "source": [
    "# Input\n",
    "# Nama, List Score\n",
    "# Ayu, [100, 80, 90]\n",
    "# Yuda, [100, 100, 100, 50]\n",
    "\n",
    "# Output : Dictionary dengan informasi max, min, avg dari tiap orang.\n",
    "\n",
    "def generateInformation(data):\n",
    "  '''\n",
    "  generateInformation digunakan untuk mencari top_score, bottom_score dan average\n",
    "  dari setiap orang pada input (data)\n",
    "  '''\n",
    "  result = {}\n",
    "  # looping data setiap orang\n",
    "  for el in data:\n",
    "    result[el] = {\n",
    "      \"top_score\" : max(data[el]),\n",
    "      \"bottom_score\" : min(data[el]),\n",
    "      \"average\": calculateMean(data[el])\n",
    "    }\n",
    "  return result\n",
    "\n",
    "inputTestCase1 = {\n",
    "  \"Ayu\": [100, 80, 90],\n",
    "  \"Yuda\": [100, 100, 100, 50]\n",
    "}\n",
    "generateInformation(inputTestCase1)"
   ]
  }
 ],
 "metadata": {
  "kernelspec": {
   "display_name": "Python 3",
   "language": "python",
   "name": "python3"
  },
  "language_info": {
   "codemirror_mode": {
    "name": "ipython",
    "version": 3
   },
   "file_extension": ".py",
   "mimetype": "text/x-python",
   "name": "python",
   "nbconvert_exporter": "python",
   "pygments_lexer": "ipython3",
   "version": "3.11.5"
  }
 },
 "nbformat": 4,
 "nbformat_minor": 2
}
