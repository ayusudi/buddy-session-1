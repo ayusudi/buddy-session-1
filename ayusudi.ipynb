{
 "cells": [
  {
   "cell_type": "markdown",
   "metadata": {},
   "source": [
    "Nama : Ayu   \n",
    "Batch :   \n",
    "\n",
    "Objektif : Menilai kompetensi dari memahami bahasa programman Python. \n"
   ]
  },
  {
   "cell_type": "markdown",
   "metadata": {},
   "source": [
    "# Soal 1 Convert"
   ]
  },
  {
   "cell_type": "code",
   "execution_count": 3,
   "metadata": {},
   "outputs": [
    {
     "name": "stdout",
     "output_type": "stream",
     "text": [
      "300\n"
     ]
    }
   ],
   "source": [
    "def convert(minute):\n",
    "  '''\n",
    "  Fungsi untuk mengubah menit menjadi detik \n",
    "  '''\n",
    "  return minute * 60"
   ]
  },
  {
   "cell_type": "markdown",
   "metadata": {},
   "source": [
    "# Soal 2 Get Students with Names and Top Notes"
   ]
  },
  {
   "cell_type": "code",
   "execution_count": 10,
   "metadata": {},
   "outputs": [
    {
     "name": "stdout",
     "output_type": "stream",
     "text": [
      "{'name': 'John', 'top_note': 5}\n"
     ]
    }
   ],
   "source": [
    "def top_note(information):\n",
    "  '''\n",
    "  Fungsi untuk mencari top_note dari list of number pada note information \n",
    "  '''\n",
    "  topNote = max(information['notes'])\n",
    "  result = {\n",
    "    'name' : information['name'],\n",
    "    'top_note': topNote\n",
    "  }\n",
    "  return result\n",
    "\n",
    "print(top_note({ \"name\": \"John\", \"notes\": [3, 5, 4] })) # { \"name\": \"John\", \"top_note\": 5 }\n"
   ]
  },
  {
   "cell_type": "markdown",
   "metadata": {},
   "source": [
    "# Soal Gabungan "
   ]
  },
  {
   "cell_type": "code",
   "execution_count": 42,
   "metadata": {},
   "outputs": [
    {
     "name": "stdout",
     "output_type": "stream",
     "text": [
      "\n",
      "  Diantara Ayu, Yuda, Sapta, Dian.\n",
      "  Top note  : Sapta dengan score 15.\n",
      "  Top waktu belajar terlama : Dian dengan 150 menit atau 9000 detik.\n",
      "  \n"
     ]
    }
   ],
   "source": [
    "def searchTopNoteAndMinute(input):\n",
    "  ''' \n",
    "  Fungsi ini digunakan untuk mengolah input yang merupakan list informasi mengenai\n",
    "  name, notes dan minutes. Dimana output dari fungsi ini menghasilkan data terbaik dari notes dan minute.\n",
    "  '''\n",
    "  names = []\n",
    "  temp = []\n",
    "  # Looping untuk mengumpulkan nama dan mencari top_note \n",
    "  for value in input : \n",
    "    names.append(value['name'])\n",
    "    result1 = top_note(value)\n",
    "    result1['minute'] = value['minute']\n",
    "    temp.append(result1)\n",
    "  \n",
    "  # Looping untuk mencari top data dari temp untuk note dan minute \n",
    "  top_data_note = { 'name': temp[0]['name'], 'top_note': temp[0]['top_note']}\n",
    "  top_data_minute =  { 'name': temp[0]['name'], 'minute': temp[0]['minute']}\n",
    "  for data in temp:\n",
    "    if top_data_note['top_note'] < data['top_note']:\n",
    "      top_data_note['name'] = data['name']\n",
    "      top_data_note['top_note'] = data['top_note']\n",
    "\n",
    "    if top_data_minute['minute'] < data['minute']:\n",
    "      top_data_minute['name'] = data['name']\n",
    "      top_data_minute['minute'] = data['minute']\n",
    "    \n",
    "  output = f'''\n",
    "  Diantara {', '.join(names)}.\n",
    "  Top note  : {top_data_note[\"name\"]} dengan score {top_data_note[\"top_note\"]}.\n",
    "  Top waktu belajar terlama : {top_data_minute['name']} dengan {top_data_minute[\"minute\"]} menit atau {convert(top_data_minute['minute'])} detik.\n",
    "  '''\n",
    "  return output\n",
    "\n",
    "\n",
    "dataInstructor = [\n",
    "  {'name': 'Ayu', 'notes': [10, 11, 12], 'minute': 120},\n",
    "  {'name': 'Yuda', 'notes': [5, 8, 11], 'minute': 90},\n",
    "  {'name': 'Sapta', 'notes': [15, 10, 5], 'minute': 100},\n",
    "  {'name': 'Dian', 'notes': [11, 10, 5], 'minute': 150}\n",
    "]\n",
    "\n",
    "print(searchTopNoteAndMinute(dataInstructor))"
   ]
  },
  {
   "cell_type": "markdown",
   "metadata": {},
   "source": [
    "# Testing "
   ]
  },
  {
   "cell_type": "code",
   "execution_count": 45,
   "metadata": {},
   "outputs": [
    {
     "name": "stderr",
     "output_type": "stream",
     "text": [
      ".\n",
      "----------------------------------------------------------------------\n",
      "Ran 1 test in 0.002s\n",
      "\n",
      "OK\n"
     ]
    }
   ],
   "source": [
    "# 1. import unittest \n",
    "import unittest \n",
    "# 2. membuat class yang merupakan anakan dari unittest.TestCase\n",
    "class Test(unittest.TestCase):\n",
    "  # 3. Unit test (def)\n",
    "  def test_searchTopNoteAndMinute(self):\n",
    "    dataInstructor = [\n",
    "      {'name': 'Ayu', 'notes': [10, 11, 12], 'minute': 120},\n",
    "      {'name': 'Yuda', 'notes': [5, 8, 11], 'minute': 90},\n",
    "      {'name': 'Sapta', 'notes': [15, 10, 5], 'minute': 100},\n",
    "      {'name': 'Dian', 'notes': [11, 10, 5], 'minute': 150}\n",
    "    ]\n",
    "    result = searchTopNoteAndMinute(dataInstructor)\n",
    "    self.assertEqual(result, '''\n",
    "  Diantara Ayu, Yuda, Sapta, Dian.\n",
    "  Top note  : Sapta dengan score 15.\n",
    "  Top waktu belajar terlama : Dian dengan 150 menit atau 9000 detik.\n",
    "  ''')\n",
    "\n",
    "\n",
    "\n",
    "#  4. unittest.main()\n",
    "if __name__ == '__main__':\n",
    "  unittest.main(argv=['first-arg-is-ignored'], exit=False)"
   ]
  }
 ],
 "metadata": {
  "kernelspec": {
   "display_name": "base",
   "language": "python",
   "name": "python3"
  },
  "language_info": {
   "codemirror_mode": {
    "name": "ipython",
    "version": 3
   },
   "file_extension": ".py",
   "mimetype": "text/x-python",
   "name": "python",
   "nbconvert_exporter": "python",
   "pygments_lexer": "ipython3",
   "version": "3.11.4"
  },
  "orig_nbformat": 4
 },
 "nbformat": 4,
 "nbformat_minor": 2
}
